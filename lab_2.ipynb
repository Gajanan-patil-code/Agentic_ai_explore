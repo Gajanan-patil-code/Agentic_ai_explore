{
 "cells": [
  {
   "cell_type": "code",
   "execution_count": 2,
   "id": "ef8d663c",
   "metadata": {},
   "outputs": [
    {
     "name": "stdout",
     "output_type": "stream",
     "text": [
      "ok\n"
     ]
    }
   ],
   "source": [
    "print(\"ok\")"
   ]
  },
  {
   "cell_type": "code",
   "execution_count": 17,
   "id": "05fe6090",
   "metadata": {},
   "outputs": [],
   "source": [
    "\n",
    "import requests\n",
    "from langchain_core.runnables import RunnableLambda\n",
    "from langchain_core.tools import Tool, tool\n",
    "from langchain_openai import ChatOpenAI\n",
    "from typing import TypedDict, List, Optional, Any,Annotated\n",
    "from langchain.agents import AgentExecutor, create_openai_functions_agent\n",
    "from langgraph.graph import StateGraph, END, START\n",
    "from langgraph.prebuilt import ToolNode,tools_condition\n",
    "from langchain_core.prompts import ChatPromptTemplate, MessagesPlaceholder\n",
    "from langchain_core.messages import HumanMessage, SystemMessage\n",
    "from langgraph.graph import MessagesState,StateGraph, END, START\n",
    "from langgraph.graph.message import add_messages"
   ]
  },
  {
   "cell_type": "code",
   "execution_count": 29,
   "id": "acc941f1",
   "metadata": {},
   "outputs": [],
   "source": [
    "from IPython.display import display, Image\n"
   ]
  },
  {
   "cell_type": "code",
   "execution_count": 124,
   "id": "ce0cc9b1",
   "metadata": {},
   "outputs": [
    {
     "data": {
      "text/plain": [
       "True"
      ]
     },
     "execution_count": 124,
     "metadata": {},
     "output_type": "execute_result"
    }
   ],
   "source": [
    "from dotenv import load_dotenv\n",
    "load_dotenv(r\"C:\\Gajanan\\data\\Langchain\\Langgraph\\.env\")"
   ]
  },
  {
   "cell_type": "code",
   "execution_count": 125,
   "id": "976045cf",
   "metadata": {},
   "outputs": [],
   "source": [
    "import os\n",
    "WEATHER_API_KEY = os.getenv(\"WEATHER_API_KEY\")\n",
    "TAVILY_API_KEY = os.getenv(\"TAVILY_API_KEY\")\n",
    "TOGETHER_API_KEY = os.getenv(\"TOGETHER_API_KEY\")\n",
    "GOOGLE_API_KEY = os.getenv(\"GOOGLE_API_KEY\")\n",
    "HYPERCROWL_API_KEY = os.getenv(\"HYPERCROWL_API_KEY\")\n",
    "PINECONE_API_KEY = os.getenv(\"PINECONE_API_KEY\")\n",
    "OPENAI_API_KEY_LATEST = os.getenv(\"OPENAI_API_KEY\")\n",
    "MILVUS_USERNAME = os.getenv(\"MILVUS_USERNAME\")\n",
    "MILVUS_USERNAME_PASSWORD = os.getenv(\"MILVUS_USERNAME_PASSWORD\")\n",
    "MILVUS_URI = os.getenv(\"MILVUS_URI\")\n",
    "MILVUS_API_TOKEN = os.getenv(\"MILVUS_API_TOKEN\")\n",
    "GROQ_API_KEY = os.getenv(\"GROQ_API_KEY\")\n",
    "GOOGLE_SERP_API_KEY = os.getenv(\"GOOGLE_SERP_API_KEY\")\n",
    "OPEN_WEATHER_API_KEY = os.getenv(\"OPEN_WEATHER_API_KEY\")\n",
    "CURRENCY_EXVHAGE_API_KAY = os.getenv(\"CURRENCY_EXVHAGE_API_KAY\")\n",
    "RAPIDAPI_CURRENCY_MAP = os.getenv(\"RAPIDAPI_CURRENCY_MAP\")\n",
    "LANGSMITH_API_KEY  = os.getenv(\"LANGSMITH_API_KEY\")\n",
    "LANGSMITH_API_KEY  = os.getenv(\"LANGSMITH_API_KEY\")\n",
    "SERPER_API_KEY = os.getenv(\"SERPER_API_KEY\")\n",
    "PUSHOVER_USER_KEY = os.getenv(\"PUSHOVER_USER_KEY\")\n",
    "PUSHOVER_USER = os.getenv(\"PUSHOVER_USER\")\n"
   ]
  },
  {
   "cell_type": "code",
   "execution_count": 128,
   "id": "6e480e61",
   "metadata": {},
   "outputs": [],
   "source": [
    "LANGSMITH_TRACING=True\n",
    "LANGSMITH_ENDPOINT=\"https://api.smith.langchain.com\"\n",
    "LANGSMITH_API_KEY=LANGSMITH_API_KEY\n",
    "LANGSMITH_PROJECT=\"default\"\n",
    "OPENAI_API_KEY=OPENAI_API_KEY_LATEST"
   ]
  },
  {
   "cell_type": "code",
   "execution_count": 133,
   "id": "174e93a6",
   "metadata": {},
   "outputs": [
    {
     "data": {
      "text/plain": [
       "AIMessage(content='Hello! How can I assist you today?', additional_kwargs={'refusal': None}, response_metadata={'token_usage': {'completion_tokens': 9, 'prompt_tokens': 11, 'total_tokens': 20, 'completion_tokens_details': {'accepted_prediction_tokens': 0, 'audio_tokens': 0, 'reasoning_tokens': 0, 'rejected_prediction_tokens': 0}, 'prompt_tokens_details': {'audio_tokens': 0, 'cached_tokens': 0}}, 'model_name': 'gpt-3.5-turbo-0125', 'system_fingerprint': None, 'id': 'chatcmpl-BkWVe3J8eNTQYDdhe7yLPKylQl70C', 'service_tier': 'default', 'finish_reason': 'stop', 'logprobs': None}, id='run--40b6e4bf-a90b-4b42-b3e5-a471650ceb31-0', usage_metadata={'input_tokens': 11, 'output_tokens': 9, 'total_tokens': 20, 'input_token_details': {'audio': 0, 'cache_read': 0}, 'output_token_details': {'audio': 0, 'reasoning': 0}})"
      ]
     },
     "execution_count": 133,
     "metadata": {},
     "output_type": "execute_result"
    }
   ],
   "source": [
    "from langchain_openai import ChatOpenAI\n",
    "\n",
    "llm = ChatOpenAI()\n",
    "llm.invoke(\"Hello, world!\")"
   ]
  },
  {
   "cell_type": "code",
   "execution_count": 76,
   "id": "47cd283b",
   "metadata": {},
   "outputs": [],
   "source": [
    "import os\n",
    "from langchain_community.utilities import GoogleSerperAPIWrapper\n",
    "\n",
    "#os.environ[\"SERPER_API_KEY\"] = \"\""
   ]
  },
  {
   "cell_type": "code",
   "execution_count": 77,
   "id": "3a28802e",
   "metadata": {},
   "outputs": [],
   "source": [
    "from langchain_community.utilities import GoogleSerperAPIWrapper\n",
    "serper = GoogleSerperAPIWrapper()\n",
    "#serper.run(\"What is the capital of India\")"
   ]
  },
  {
   "cell_type": "code",
   "execution_count": 78,
   "id": "7292263e",
   "metadata": {},
   "outputs": [],
   "source": [
    "from langchain.agents import Tool\n",
    "tool_search = Tool(name=\"search\",\n",
    "        func = serper.run,\n",
    "        description = \"Usefull for when you need more information from an online search\")"
   ]
  },
  {
   "cell_type": "code",
   "execution_count": 79,
   "id": "fac785c8",
   "metadata": {},
   "outputs": [
    {
     "data": {
      "text/plain": [
       "\"Mumbai is the capital of Maharashtra due to its historical significance as a major trading port and its status as India's financial hub, housing key ... Mumbai also known as Bombay is the capital city of the Indian state of Maharashtra. Mumbai is the financial capital and the most populous city proper of ... Maharashtra's capital, Mumbai (formerly Bombay), is an island city on the western coast, connected to the mainland by roads and railways. Mumbai (also known as Bombay, the official name until 1995) is the capital city of the Indian state of Maharashtra. Mumbai lies on the Konkan coast on the west ... Mumbai is the capital of Maharashtra state. Hence, this is the correct option. - Option C: Nashik is a city in Maharashtra and an ancient city. It is one of the ... Mumbai, formerly Bombay, is a major city on the Arabian Sea, the capital of Maharashtra, and is a center of India's financial, commercial, and film industries. Maharashtra has two capitals – Mumbai and Nagpur. Mumbai is the main capital of Maharashtra. Nagpur is the winter capital of Maharashtra. Capital: Mumbai ; Geography: 36 districts ; Land area (2021): 308,000 sq km ; Population (2011 census): 112.4 million ; Head of government: Chief Minister Uddhav ... Maharashtra has 2 capitals, they are Mumbai and Nagpur. Mumbai is the main capital of Maharashtra while Nagpur is the winter capital of Maharashtra. Mumbai – The Capital of Maharashtra Mumbai that is formally known by the official name Bombay till 1995. Mumbai is located on the coast of Konkan near the west ...\""
      ]
     },
     "execution_count": 79,
     "metadata": {},
     "output_type": "execute_result"
    }
   ],
   "source": [
    "tool_search.invoke(\"what is the capital of maharashtr?\")"
   ]
  },
  {
   "cell_type": "code",
   "execution_count": null,
   "id": "a4659b74",
   "metadata": {},
   "outputs": [],
   "source": []
  },
  {
   "cell_type": "markdown",
   "id": "72c180fb",
   "metadata": {},
   "source": [
    "Pushover to push notification"
   ]
  },
  {
   "cell_type": "code",
   "execution_count": 80,
   "id": "1d4d4407",
   "metadata": {},
   "outputs": [],
   "source": [
    "pushover_url = \"https://api.pushover.net/1/messages.json\""
   ]
  },
  {
   "cell_type": "code",
   "execution_count": 97,
   "id": "0f494e14",
   "metadata": {},
   "outputs": [],
   "source": [
    "def push_nft(text:str):\n",
    "    \"\"\"Send a push notification to the user\"\"\"\n",
    "    requests.post(pushover_url, data = {\"token\":PUSHOVER_USER_KEY,\"user\":PUSHOVER_USER,\"message\":text})"
   ]
  },
  {
   "cell_type": "code",
   "execution_count": 111,
   "id": "d9fbdfbe",
   "metadata": {},
   "outputs": [],
   "source": [
    "tool_push = Tool(name=\"send_push_notification\",\n",
    "                 func = push_nft,\n",
    "                 description=\"usefull for when you want to send push notification\")\n",
    "\n",
    "#tool_push.invoke(\"Hello, me\")"
   ]
  },
  {
   "cell_type": "markdown",
   "id": "cfaf90b4",
   "metadata": {},
   "source": []
  },
  {
   "cell_type": "code",
   "execution_count": 112,
   "id": "440d9c3e",
   "metadata": {},
   "outputs": [],
   "source": [
    "tools = [tool_search,tool_push]"
   ]
  },
  {
   "cell_type": "code",
   "execution_count": 113,
   "id": "e9f57371",
   "metadata": {},
   "outputs": [],
   "source": [
    "class State(TypedDict):\n",
    "    messages: Annotated[list,add_messages]"
   ]
  },
  {
   "cell_type": "code",
   "execution_count": 114,
   "id": "559be95f",
   "metadata": {},
   "outputs": [],
   "source": [
    "graph_builder = StateGraph(State)"
   ]
  },
  {
   "cell_type": "code",
   "execution_count": 115,
   "id": "f5a65b4c",
   "metadata": {},
   "outputs": [],
   "source": [
    "llm = ChatOpenAI(model=\"gpt-4o-mini\")"
   ]
  },
  {
   "cell_type": "code",
   "execution_count": 116,
   "id": "036ebdfa",
   "metadata": {},
   "outputs": [],
   "source": [
    "llm_with_tools = llm.bind_tools(tools)"
   ]
  },
  {
   "cell_type": "code",
   "execution_count": 117,
   "id": "13f64dee",
   "metadata": {},
   "outputs": [],
   "source": [
    "def chatbot(state:State):\n",
    "    print(\"openai calling\")\n",
    "    return {\"messages\": [llm_with_tools.invoke(state[\"messages\"])]}"
   ]
  },
  {
   "cell_type": "code",
   "execution_count": 118,
   "id": "f867dfb2",
   "metadata": {},
   "outputs": [
    {
     "data": {
      "text/plain": [
       "<langgraph.graph.state.StateGraph at 0x1af4bb7ce90>"
      ]
     },
     "execution_count": 118,
     "metadata": {},
     "output_type": "execute_result"
    }
   ],
   "source": [
    "graph_builder.add_node(\"chatbot\",chatbot)\n",
    "graph_builder.add_node(\"tools\",ToolNode(tools= tools))"
   ]
  },
  {
   "cell_type": "code",
   "execution_count": 119,
   "id": "6adf61f7",
   "metadata": {},
   "outputs": [
    {
     "data": {
      "text/plain": [
       "<langgraph.graph.state.StateGraph at 0x1af4bb7ce90>"
      ]
     },
     "execution_count": 119,
     "metadata": {},
     "output_type": "execute_result"
    }
   ],
   "source": [
    "\n",
    "graph_builder.add_conditional_edges(\"chatbot\",tools_condition,\"tools\")\n",
    "graph_builder.add_edge(\"tools\",\"chatbot\")\n",
    "graph_builder.add_edge(START, \"chatbot\")"
   ]
  },
  {
   "cell_type": "code",
   "execution_count": 120,
   "id": "2c5d3013",
   "metadata": {},
   "outputs": [],
   "source": [
    "graph = graph_builder.compile()"
   ]
  },
  {
   "cell_type": "code",
   "execution_count": 121,
   "id": "a8328c61",
   "metadata": {},
   "outputs": [
    {
     "data": {
      "image/png": "[encoded data removed]",
      "text/plain": [
       "<IPython.core.display.Image object>"
      ]
     },
     "metadata": {},
     "output_type": "display_data"
    }
   ],
   "source": [
    "display(Image(graph.get_graph().draw_mermaid_png()))"
   ]
  },
  {
   "cell_type": "code",
   "execution_count": 122,
   "id": "73360bc8",
   "metadata": {},
   "outputs": [],
   "source": [
    "def chat(user_input:str, history):\n",
    "    result = graph.invoke({\"messages\":[{\"role\":\"user\",\"content\":user_input}]})\n",
    "    return result[\"messages\"][-1].content"
   ]
  },
  {
   "cell_type": "code",
   "execution_count": null,
   "id": "53122deb",
   "metadata": {},
   "outputs": [
    {
     "name": "stdout",
     "output_type": "stream",
     "text": [
      "* Running on local URL:  http://127.0.0.1:7869\n",
      "* To create a public link, set `share=True` in `launch()`.\n"
     ]
    },
    {
     "data": {
      "text/html": [
       "<div><iframe src=\"http://127.0.0.1:7869/\" width=\"100%\" height=\"500\" allow=\"autoplay; camera; microphone; clipboard-read; clipboard-write;\" frameborder=\"0\" allowfullscreen></iframe></div>"
      ],
      "text/plain": [
       "<IPython.core.display.HTML object>"
      ]
     },
     "metadata": {},
     "output_type": "display_data"
    },
    {
     "data": {
      "text/plain": []
     },
     "execution_count": 123,
     "metadata": {},
     "output_type": "execute_result"
    },
    {
     "name": "stdout",
     "output_type": "stream",
     "text": [
      "openai calling\n",
      "openai calling\n",
      "openai calling\n",
      "openai calling\n",
      "openai calling\n",
      "openai calling\n"
     ]
    }
   ],
   "source": [
    "import gradio as gr\n",
    "demo = gr.ChatInterface(fn=chat, type=\"messages\")\n",
    "demo.launch()"
   ]
  }
 ],
 "metadata": {
  "kernelspec": {
   "display_name": ".venv",
   "language": "python",
   "name": "python3"
  },
  "language_info": {
   "codemirror_mode": {
    "name": "ipython",
    "version": 3
   },
   "file_extension": ".py",
   "mimetype": "text/x-python",
   "name": "python",
   "nbconvert_exporter": "python",
   "pygments_lexer": "ipython3",
   "version": "3.11.9"
  }
 },
 "nbformat": 4,
 "nbformat_minor": 5
}
