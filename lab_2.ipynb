{
 "cells": [
  {
   "cell_type": "code",
   "execution_count": 1,
   "id": "ef8d663c",
   "metadata": {},
   "outputs": [
    {
     "name": "stdout",
     "output_type": "stream",
     "text": [
      "ok\n"
     ]
    }
   ],
   "source": [
    "print(\"ok\")"
   ]
  },
  {
   "cell_type": "code",
   "execution_count": 2,
   "id": "05fe6090",
   "metadata": {},
   "outputs": [],
   "source": [
    "\n",
    "import requests\n",
    "from langchain_core.runnables import RunnableLambda\n",
    "from langchain_core.tools import Tool, tool\n",
    "from langchain_openai import ChatOpenAI\n",
    "from typing import TypedDict, List, Optional, Any\n",
    "from langchain.agents import AgentExecutor, create_openai_functions_agent\n",
    "from langgraph.graph import StateGraph, END, START\n",
    "from langgraph.prebuilt import ToolNode,tools_condition\n",
    "from langchain_core.prompts import ChatPromptTemplate, MessagesPlaceholder\n",
    "from langchain_core.messages import HumanMessage, SystemMessage\n",
    "from langgraph.graph import MessagesState,StateGraph, END, START"
   ]
  },
  {
   "cell_type": "code",
   "execution_count": 3,
   "id": "ce0cc9b1",
   "metadata": {},
   "outputs": [
    {
     "data": {
      "text/plain": [
       "True"
      ]
     },
     "execution_count": 3,
     "metadata": {},
     "output_type": "execute_result"
    }
   ],
   "source": [
    "from dotenv import load_dotenv\n",
    "load_dotenv(r\"C:\\Gajanan\\data\\Langchain\\Langgraph\\.env\")"
   ]
  },
  {
   "cell_type": "code",
   "execution_count": null,
   "id": "976045cf",
   "metadata": {},
   "outputs": [],
   "source": [
    "import os\n",
    "WEATHER_API_KEY = os.getenv(\"WEATHER_API_KEY\")\n",
    "TAVILY_API_KEY = os.getenv(\"TAVILY_API_KEY\")\n",
    "TOGETHER_API_KEY = os.getenv(\"TOGETHER_API_KEY\")\n",
    "GOOGLE_API_KEY = os.getenv(\"GOOGLE_API_KEY\")\n",
    "HYPERCROWL_API_KEY = os.getenv(\"HYPERCROWL_API_KEY\")\n",
    "PINECONE_API_KEY = os.getenv(\"PINECONE_API_KEY\")\n",
    "OPENAI_API_KEY_LATEST = os.getenv(\"OPENAI_API_KEY\")\n",
    "MILVUS_USERNAME = os.getenv(\"MILVUS_USERNAME\")\n",
    "MILVUS_USERNAME_PASSWORD = os.getenv(\"MILVUS_USERNAME_PASSWORD\")\n",
    "MILVUS_URI = os.getenv(\"MILVUS_URI\")\n",
    "MILVUS_API_TOKEN = os.getenv(\"MILVUS_API_TOKEN\")\n",
    "GROQ_API_KEY = os.getenv(\"GROQ_API_KEY\")\n",
    "GOOGLE_SERP_API_KEY = os.getenv(\"GOOGLE_SERP_API_KEY\")\n",
    "OPEN_WEATHER_API_KEY = os.getenv(\"OPEN_WEATHER_API_KEY\")\n",
    "CURRENCY_EXVHAGE_API_KAY = os.getenv(\"CURRENCY_EXVHAGE_API_KAY\")\n",
    "RAPIDAPI_CURRENCY_MAP = os.getenv(\"RAPIDAPI_CURRENCY_MAP\")\n",
    "LANGSMITH_API_KEY  = os.getenv(\"LANGSMITH_API_KEY \")"
   ]
  }
 ],
 "metadata": {
  "kernelspec": {
   "display_name": ".venv",
   "language": "python",
   "name": "python3"
  },
  "language_info": {
   "codemirror_mode": {
    "name": "ipython",
    "version": 3
   },
   "file_extension": ".py",
   "mimetype": "text/x-python",
   "name": "python",
   "nbconvert_exporter": "python",
   "pygments_lexer": "ipython3",
   "version": "3.11.9"
  }
 },
 "nbformat": 4,
 "nbformat_minor": 5
}
